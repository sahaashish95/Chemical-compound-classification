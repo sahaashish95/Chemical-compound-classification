{
 "cells": [
  {
   "cell_type": "markdown",
   "metadata": {
    "colab_type": "text",
    "id": "bYDZUX_NmtwT"
   },
   "source": [
    "# **Libraries**\n",
    "Importing all libraries that we required in this assignment"
   ]
  },
  {
   "cell_type": "code",
   "execution_count": 0,
   "metadata": {
    "colab": {},
    "colab_type": "code",
    "id": "yVJ7n9j5nkE4"
   },
   "outputs": [],
   "source": [
    "\n",
    "\n",
    "import warnings\n",
    "warnings.filterwarnings(\"ignore\")\n",
    "\n",
    "import pandas as pd\n",
    "import numpy as np\n",
    "\n",
    "import matplotlib.pyplot as plt\n",
    "import seaborn as sns\n",
    "\n",
    "from sklearn.feature_extraction.text import CountVectorizer\n",
    "from keras.models import Sequential\n",
    "from keras.layers.core import Dense\n",
    "\n",
    "from sklearn.model_selection import train_test_split\n",
    "import numpy as np\n",
    "from keras.layers import Dropout\n",
    "from keras.optimizers import adam\n",
    "from sklearn.datasets import make_circles\n",
    "from sklearn.metrics import accuracy_score\n",
    "from sklearn.metrics import precision_score\n",
    "from sklearn.metrics import recall_score\n",
    "from sklearn.metrics import f1_score\n",
    "from sklearn.metrics import cohen_kappa_score\n",
    "from sklearn.metrics import roc_auc_score\n",
    "from sklearn.metrics import confusion_matrix\n",
    "\n",
    "\n",
    "\n",
    "\n"
   ]
  },
  {
   "cell_type": "code",
   "execution_count": 93,
   "metadata": {
    "colab": {
     "base_uri": "https://localhost:8080/",
     "height": 253
    },
    "colab_type": "code",
    "id": "Ljw3Qo6DnxlS",
    "outputId": "c5bdc596-ff66-4a46-872e-78854aab8f5f"
   },
   "outputs": [
    {
     "data": {
      "text/html": [
       "<div>\n",
       "<style scoped>\n",
       "    .dataframe tbody tr th:only-of-type {\n",
       "        vertical-align: middle;\n",
       "    }\n",
       "\n",
       "    .dataframe tbody tr th {\n",
       "        vertical-align: top;\n",
       "    }\n",
       "\n",
       "    .dataframe thead th {\n",
       "        text-align: right;\n",
       "    }\n",
       "</style>\n",
       "<table border=\"1\" class=\"dataframe\">\n",
       "  <thead>\n",
       "    <tr style=\"text-align: right;\">\n",
       "      <th></th>\n",
       "      <th>ID</th>\n",
       "      <th>molecule_name</th>\n",
       "      <th>conformation_name</th>\n",
       "      <th>f1</th>\n",
       "      <th>f2</th>\n",
       "      <th>f3</th>\n",
       "      <th>f4</th>\n",
       "      <th>f5</th>\n",
       "      <th>f6</th>\n",
       "      <th>f7</th>\n",
       "      <th>f8</th>\n",
       "      <th>f9</th>\n",
       "      <th>f10</th>\n",
       "      <th>f11</th>\n",
       "      <th>f12</th>\n",
       "      <th>f13</th>\n",
       "      <th>f14</th>\n",
       "      <th>f15</th>\n",
       "      <th>f16</th>\n",
       "      <th>f17</th>\n",
       "      <th>f18</th>\n",
       "      <th>f19</th>\n",
       "      <th>f20</th>\n",
       "      <th>f21</th>\n",
       "      <th>f22</th>\n",
       "      <th>f23</th>\n",
       "      <th>f24</th>\n",
       "      <th>f25</th>\n",
       "      <th>f26</th>\n",
       "      <th>f27</th>\n",
       "      <th>f28</th>\n",
       "      <th>f29</th>\n",
       "      <th>f30</th>\n",
       "      <th>f31</th>\n",
       "      <th>f32</th>\n",
       "      <th>f33</th>\n",
       "      <th>f34</th>\n",
       "      <th>f35</th>\n",
       "      <th>f36</th>\n",
       "      <th>f37</th>\n",
       "      <th>...</th>\n",
       "      <th>f128</th>\n",
       "      <th>f129</th>\n",
       "      <th>f130</th>\n",
       "      <th>f131</th>\n",
       "      <th>f132</th>\n",
       "      <th>f133</th>\n",
       "      <th>f134</th>\n",
       "      <th>f135</th>\n",
       "      <th>f136</th>\n",
       "      <th>f137</th>\n",
       "      <th>f138</th>\n",
       "      <th>f139</th>\n",
       "      <th>f140</th>\n",
       "      <th>f141</th>\n",
       "      <th>f142</th>\n",
       "      <th>f143</th>\n",
       "      <th>f144</th>\n",
       "      <th>f145</th>\n",
       "      <th>f146</th>\n",
       "      <th>f147</th>\n",
       "      <th>f148</th>\n",
       "      <th>f149</th>\n",
       "      <th>f150</th>\n",
       "      <th>f151</th>\n",
       "      <th>f152</th>\n",
       "      <th>f153</th>\n",
       "      <th>f154</th>\n",
       "      <th>f155</th>\n",
       "      <th>f156</th>\n",
       "      <th>f157</th>\n",
       "      <th>f158</th>\n",
       "      <th>f159</th>\n",
       "      <th>f160</th>\n",
       "      <th>f161</th>\n",
       "      <th>f162</th>\n",
       "      <th>f163</th>\n",
       "      <th>f164</th>\n",
       "      <th>f165</th>\n",
       "      <th>f166</th>\n",
       "      <th>class</th>\n",
       "    </tr>\n",
       "  </thead>\n",
       "  <tbody>\n",
       "    <tr>\n",
       "      <th>0</th>\n",
       "      <td>1</td>\n",
       "      <td>MUSK-211</td>\n",
       "      <td>211_1+1</td>\n",
       "      <td>46</td>\n",
       "      <td>-108</td>\n",
       "      <td>-60</td>\n",
       "      <td>-69</td>\n",
       "      <td>-117</td>\n",
       "      <td>49</td>\n",
       "      <td>38</td>\n",
       "      <td>-161</td>\n",
       "      <td>-8</td>\n",
       "      <td>5</td>\n",
       "      <td>-323</td>\n",
       "      <td>-220</td>\n",
       "      <td>-113</td>\n",
       "      <td>-299</td>\n",
       "      <td>-283</td>\n",
       "      <td>-307</td>\n",
       "      <td>-31</td>\n",
       "      <td>-106</td>\n",
       "      <td>-227</td>\n",
       "      <td>-42</td>\n",
       "      <td>-59</td>\n",
       "      <td>-22</td>\n",
       "      <td>-67</td>\n",
       "      <td>189</td>\n",
       "      <td>81</td>\n",
       "      <td>17</td>\n",
       "      <td>-27</td>\n",
       "      <td>-89</td>\n",
       "      <td>-67</td>\n",
       "      <td>105</td>\n",
       "      <td>-116</td>\n",
       "      <td>124</td>\n",
       "      <td>-106</td>\n",
       "      <td>5</td>\n",
       "      <td>-120</td>\n",
       "      <td>63</td>\n",
       "      <td>-165</td>\n",
       "      <td>...</td>\n",
       "      <td>81</td>\n",
       "      <td>-114</td>\n",
       "      <td>-187</td>\n",
       "      <td>45</td>\n",
       "      <td>-118</td>\n",
       "      <td>-75</td>\n",
       "      <td>-182</td>\n",
       "      <td>-234</td>\n",
       "      <td>-19</td>\n",
       "      <td>12</td>\n",
       "      <td>-13</td>\n",
       "      <td>-41</td>\n",
       "      <td>-119</td>\n",
       "      <td>-149</td>\n",
       "      <td>70</td>\n",
       "      <td>17</td>\n",
       "      <td>-20</td>\n",
       "      <td>-177</td>\n",
       "      <td>-101</td>\n",
       "      <td>-116</td>\n",
       "      <td>-14</td>\n",
       "      <td>-50</td>\n",
       "      <td>24</td>\n",
       "      <td>-81</td>\n",
       "      <td>-125</td>\n",
       "      <td>-114</td>\n",
       "      <td>-44</td>\n",
       "      <td>128</td>\n",
       "      <td>3</td>\n",
       "      <td>-244</td>\n",
       "      <td>-308</td>\n",
       "      <td>52</td>\n",
       "      <td>-7</td>\n",
       "      <td>39</td>\n",
       "      <td>126</td>\n",
       "      <td>156</td>\n",
       "      <td>-50</td>\n",
       "      <td>-112</td>\n",
       "      <td>96</td>\n",
       "      <td>1</td>\n",
       "    </tr>\n",
       "    <tr>\n",
       "      <th>1</th>\n",
       "      <td>2</td>\n",
       "      <td>MUSK-211</td>\n",
       "      <td>211_1+10</td>\n",
       "      <td>41</td>\n",
       "      <td>-188</td>\n",
       "      <td>-145</td>\n",
       "      <td>22</td>\n",
       "      <td>-117</td>\n",
       "      <td>-6</td>\n",
       "      <td>57</td>\n",
       "      <td>-171</td>\n",
       "      <td>-39</td>\n",
       "      <td>-100</td>\n",
       "      <td>-319</td>\n",
       "      <td>-111</td>\n",
       "      <td>-228</td>\n",
       "      <td>-281</td>\n",
       "      <td>-281</td>\n",
       "      <td>-300</td>\n",
       "      <td>54</td>\n",
       "      <td>-149</td>\n",
       "      <td>-98</td>\n",
       "      <td>-196</td>\n",
       "      <td>-27</td>\n",
       "      <td>-22</td>\n",
       "      <td>2</td>\n",
       "      <td>75</td>\n",
       "      <td>49</td>\n",
       "      <td>-34</td>\n",
       "      <td>45</td>\n",
       "      <td>-91</td>\n",
       "      <td>32</td>\n",
       "      <td>95</td>\n",
       "      <td>-116</td>\n",
       "      <td>85</td>\n",
       "      <td>-23</td>\n",
       "      <td>42</td>\n",
       "      <td>-58</td>\n",
       "      <td>61</td>\n",
       "      <td>-171</td>\n",
       "      <td>...</td>\n",
       "      <td>88</td>\n",
       "      <td>-21</td>\n",
       "      <td>-32</td>\n",
       "      <td>32</td>\n",
       "      <td>-128</td>\n",
       "      <td>-72</td>\n",
       "      <td>-124</td>\n",
       "      <td>-218</td>\n",
       "      <td>-94</td>\n",
       "      <td>53</td>\n",
       "      <td>-79</td>\n",
       "      <td>-20</td>\n",
       "      <td>-35</td>\n",
       "      <td>-26</td>\n",
       "      <td>4</td>\n",
       "      <td>50</td>\n",
       "      <td>17</td>\n",
       "      <td>-177</td>\n",
       "      <td>-102</td>\n",
       "      <td>-121</td>\n",
       "      <td>-66</td>\n",
       "      <td>-77</td>\n",
       "      <td>51</td>\n",
       "      <td>-41</td>\n",
       "      <td>-34</td>\n",
       "      <td>-32</td>\n",
       "      <td>-63</td>\n",
       "      <td>115</td>\n",
       "      <td>-5</td>\n",
       "      <td>-235</td>\n",
       "      <td>-59</td>\n",
       "      <td>-2</td>\n",
       "      <td>52</td>\n",
       "      <td>103</td>\n",
       "      <td>136</td>\n",
       "      <td>169</td>\n",
       "      <td>-61</td>\n",
       "      <td>-136</td>\n",
       "      <td>79</td>\n",
       "      <td>1</td>\n",
       "    </tr>\n",
       "    <tr>\n",
       "      <th>2</th>\n",
       "      <td>3</td>\n",
       "      <td>MUSK-211</td>\n",
       "      <td>211_1+11</td>\n",
       "      <td>46</td>\n",
       "      <td>-194</td>\n",
       "      <td>-145</td>\n",
       "      <td>28</td>\n",
       "      <td>-117</td>\n",
       "      <td>73</td>\n",
       "      <td>57</td>\n",
       "      <td>-168</td>\n",
       "      <td>-39</td>\n",
       "      <td>-22</td>\n",
       "      <td>-319</td>\n",
       "      <td>-111</td>\n",
       "      <td>-104</td>\n",
       "      <td>-283</td>\n",
       "      <td>-282</td>\n",
       "      <td>-303</td>\n",
       "      <td>52</td>\n",
       "      <td>-152</td>\n",
       "      <td>-97</td>\n",
       "      <td>-225</td>\n",
       "      <td>-28</td>\n",
       "      <td>-22</td>\n",
       "      <td>2</td>\n",
       "      <td>179</td>\n",
       "      <td>49</td>\n",
       "      <td>-33</td>\n",
       "      <td>46</td>\n",
       "      <td>-88</td>\n",
       "      <td>22</td>\n",
       "      <td>79</td>\n",
       "      <td>-116</td>\n",
       "      <td>19</td>\n",
       "      <td>-11</td>\n",
       "      <td>6</td>\n",
       "      <td>-38</td>\n",
       "      <td>71</td>\n",
       "      <td>-175</td>\n",
       "      <td>...</td>\n",
       "      <td>64</td>\n",
       "      <td>0</td>\n",
       "      <td>-23</td>\n",
       "      <td>-15</td>\n",
       "      <td>-129</td>\n",
       "      <td>-74</td>\n",
       "      <td>-125</td>\n",
       "      <td>-221</td>\n",
       "      <td>-93</td>\n",
       "      <td>53</td>\n",
       "      <td>-72</td>\n",
       "      <td>-19</td>\n",
       "      <td>-33</td>\n",
       "      <td>-26</td>\n",
       "      <td>3</td>\n",
       "      <td>49</td>\n",
       "      <td>17</td>\n",
       "      <td>-177</td>\n",
       "      <td>-102</td>\n",
       "      <td>-119</td>\n",
       "      <td>-66</td>\n",
       "      <td>-81</td>\n",
       "      <td>51</td>\n",
       "      <td>-41</td>\n",
       "      <td>-27</td>\n",
       "      <td>-41</td>\n",
       "      <td>-140</td>\n",
       "      <td>77</td>\n",
       "      <td>-163</td>\n",
       "      <td>-238</td>\n",
       "      <td>-134</td>\n",
       "      <td>-154</td>\n",
       "      <td>57</td>\n",
       "      <td>143</td>\n",
       "      <td>142</td>\n",
       "      <td>165</td>\n",
       "      <td>-67</td>\n",
       "      <td>-145</td>\n",
       "      <td>39</td>\n",
       "      <td>1</td>\n",
       "    </tr>\n",
       "    <tr>\n",
       "      <th>3</th>\n",
       "      <td>4</td>\n",
       "      <td>MUSK-211</td>\n",
       "      <td>211_1+12</td>\n",
       "      <td>41</td>\n",
       "      <td>-188</td>\n",
       "      <td>-145</td>\n",
       "      <td>22</td>\n",
       "      <td>-117</td>\n",
       "      <td>-7</td>\n",
       "      <td>57</td>\n",
       "      <td>-170</td>\n",
       "      <td>-39</td>\n",
       "      <td>-99</td>\n",
       "      <td>-319</td>\n",
       "      <td>-111</td>\n",
       "      <td>-228</td>\n",
       "      <td>-282</td>\n",
       "      <td>-281</td>\n",
       "      <td>-301</td>\n",
       "      <td>54</td>\n",
       "      <td>-150</td>\n",
       "      <td>-98</td>\n",
       "      <td>-196</td>\n",
       "      <td>-28</td>\n",
       "      <td>-22</td>\n",
       "      <td>2</td>\n",
       "      <td>77</td>\n",
       "      <td>48</td>\n",
       "      <td>-34</td>\n",
       "      <td>46</td>\n",
       "      <td>-91</td>\n",
       "      <td>32</td>\n",
       "      <td>94</td>\n",
       "      <td>-116</td>\n",
       "      <td>84</td>\n",
       "      <td>-23</td>\n",
       "      <td>41</td>\n",
       "      <td>-58</td>\n",
       "      <td>62</td>\n",
       "      <td>-171</td>\n",
       "      <td>...</td>\n",
       "      <td>88</td>\n",
       "      <td>-20</td>\n",
       "      <td>-32</td>\n",
       "      <td>32</td>\n",
       "      <td>-128</td>\n",
       "      <td>-73</td>\n",
       "      <td>-125</td>\n",
       "      <td>-220</td>\n",
       "      <td>-93</td>\n",
       "      <td>53</td>\n",
       "      <td>-78</td>\n",
       "      <td>-19</td>\n",
       "      <td>-34</td>\n",
       "      <td>-26</td>\n",
       "      <td>4</td>\n",
       "      <td>50</td>\n",
       "      <td>17</td>\n",
       "      <td>-177</td>\n",
       "      <td>-101</td>\n",
       "      <td>-121</td>\n",
       "      <td>-65</td>\n",
       "      <td>-77</td>\n",
       "      <td>52</td>\n",
       "      <td>-41</td>\n",
       "      <td>-34</td>\n",
       "      <td>-32</td>\n",
       "      <td>-66</td>\n",
       "      <td>115</td>\n",
       "      <td>-7</td>\n",
       "      <td>-236</td>\n",
       "      <td>-60</td>\n",
       "      <td>-4</td>\n",
       "      <td>52</td>\n",
       "      <td>104</td>\n",
       "      <td>136</td>\n",
       "      <td>168</td>\n",
       "      <td>-60</td>\n",
       "      <td>-135</td>\n",
       "      <td>80</td>\n",
       "      <td>1</td>\n",
       "    </tr>\n",
       "    <tr>\n",
       "      <th>4</th>\n",
       "      <td>5</td>\n",
       "      <td>MUSK-211</td>\n",
       "      <td>211_1+13</td>\n",
       "      <td>41</td>\n",
       "      <td>-188</td>\n",
       "      <td>-145</td>\n",
       "      <td>22</td>\n",
       "      <td>-117</td>\n",
       "      <td>-7</td>\n",
       "      <td>57</td>\n",
       "      <td>-170</td>\n",
       "      <td>-39</td>\n",
       "      <td>-99</td>\n",
       "      <td>-319</td>\n",
       "      <td>-111</td>\n",
       "      <td>-228</td>\n",
       "      <td>-282</td>\n",
       "      <td>-281</td>\n",
       "      <td>-301</td>\n",
       "      <td>54</td>\n",
       "      <td>-150</td>\n",
       "      <td>-98</td>\n",
       "      <td>-196</td>\n",
       "      <td>-28</td>\n",
       "      <td>-22</td>\n",
       "      <td>2</td>\n",
       "      <td>78</td>\n",
       "      <td>48</td>\n",
       "      <td>-34</td>\n",
       "      <td>46</td>\n",
       "      <td>-91</td>\n",
       "      <td>31</td>\n",
       "      <td>94</td>\n",
       "      <td>-116</td>\n",
       "      <td>84</td>\n",
       "      <td>-23</td>\n",
       "      <td>41</td>\n",
       "      <td>-58</td>\n",
       "      <td>62</td>\n",
       "      <td>-171</td>\n",
       "      <td>...</td>\n",
       "      <td>88</td>\n",
       "      <td>-20</td>\n",
       "      <td>-32</td>\n",
       "      <td>32</td>\n",
       "      <td>-128</td>\n",
       "      <td>-73</td>\n",
       "      <td>-125</td>\n",
       "      <td>-220</td>\n",
       "      <td>-93</td>\n",
       "      <td>53</td>\n",
       "      <td>-78</td>\n",
       "      <td>-19</td>\n",
       "      <td>-34</td>\n",
       "      <td>-26</td>\n",
       "      <td>4</td>\n",
       "      <td>50</td>\n",
       "      <td>17</td>\n",
       "      <td>-177</td>\n",
       "      <td>-101</td>\n",
       "      <td>-121</td>\n",
       "      <td>-65</td>\n",
       "      <td>-76</td>\n",
       "      <td>52</td>\n",
       "      <td>-41</td>\n",
       "      <td>-34</td>\n",
       "      <td>-32</td>\n",
       "      <td>-66</td>\n",
       "      <td>115</td>\n",
       "      <td>-8</td>\n",
       "      <td>-236</td>\n",
       "      <td>-60</td>\n",
       "      <td>-4</td>\n",
       "      <td>52</td>\n",
       "      <td>104</td>\n",
       "      <td>137</td>\n",
       "      <td>168</td>\n",
       "      <td>-60</td>\n",
       "      <td>-135</td>\n",
       "      <td>80</td>\n",
       "      <td>1</td>\n",
       "    </tr>\n",
       "  </tbody>\n",
       "</table>\n",
       "<p>5 rows × 170 columns</p>\n",
       "</div>"
      ],
      "text/plain": [
       "   ID molecule_name conformation_name  f1   f2  ...  f163  f164  f165  f166  class\n",
       "0   1      MUSK-211           211_1+1  46 -108  ...   156   -50  -112    96      1\n",
       "1   2      MUSK-211          211_1+10  41 -188  ...   169   -61  -136    79      1\n",
       "2   3      MUSK-211          211_1+11  46 -194  ...   165   -67  -145    39      1\n",
       "3   4      MUSK-211          211_1+12  41 -188  ...   168   -60  -135    80      1\n",
       "4   5      MUSK-211          211_1+13  41 -188  ...   168   -60  -135    80      1\n",
       "\n",
       "[5 rows x 170 columns]"
      ]
     },
     "execution_count": 93,
     "metadata": {
      "tags": []
     },
     "output_type": "execute_result"
    }
   ],
   "source": [
    "# reading csv file\n",
    "data  = pd.read_csv('musk.csv')\n",
    "\n",
    "data.head(5)"
   ]
  },
  {
   "cell_type": "code",
   "execution_count": 94,
   "metadata": {
    "colab": {
     "base_uri": "https://localhost:8080/",
     "height": 68
    },
    "colab_type": "code",
    "id": "IpdNogPrG1Af",
    "outputId": "d074cce5-0de7-4946-c5ad-11830560f088"
   },
   "outputs": [
    {
     "data": {
      "text/plain": [
       "0    5581\n",
       "1    1017\n",
       "Name: class, dtype: int64"
      ]
     },
     "execution_count": 94,
     "metadata": {
      "tags": []
     },
     "output_type": "execute_result"
    }
   ],
   "source": [
    "#checking class unique values\n",
    "data['class'].value_counts()"
   ]
  },
  {
   "cell_type": "markdown",
   "metadata": {
    "colab_type": "text",
    "id": "42JekEUArZDx"
   },
   "source": [
    "# **Observation**\n",
    "Here we can see that in class label column ,class 0 have high value the class1.so we can say class 0 is majority class and class 1 is minority class.\n",
    "Means our dataset is imbalanced dataset"
   ]
  },
  {
   "cell_type": "code",
   "execution_count": 95,
   "metadata": {
    "colab": {
     "base_uri": "https://localhost:8080/",
     "height": 221
    },
    "colab_type": "code",
    "id": "5j_QUD3rsZGg",
    "outputId": "e5d6ae95-f3ad-4035-d2da-4e2713e92b28"
   },
   "outputs": [
    {
     "data": {
      "text/plain": [
       "ID                   0\n",
       "molecule_name        0\n",
       "conformation_name    0\n",
       "f1                   0\n",
       "f2                   0\n",
       "                    ..\n",
       "f163                 0\n",
       "f164                 0\n",
       "f165                 0\n",
       "f166                 0\n",
       "class                0\n",
       "Length: 170, dtype: int64"
      ]
     },
     "execution_count": 95,
     "metadata": {
      "tags": []
     },
     "output_type": "execute_result"
    }
   ],
   "source": [
    "#checking nul values in dataset\n",
    "data.isnull().sum()"
   ]
  },
  {
   "cell_type": "markdown",
   "metadata": {
    "colab_type": "text",
    "id": "xUpfBdk9s4Bs"
   },
   "source": [
    "We can observe that there are no null values in our dataset"
   ]
  },
  {
   "cell_type": "markdown",
   "metadata": {
    "colab_type": "text",
    "id": "Vn8_wc8ksCad"
   },
   "source": [
    "# **Data Cleaning step**"
   ]
  },
  {
   "cell_type": "code",
   "execution_count": 96,
   "metadata": {
    "colab": {
     "base_uri": "https://localhost:8080/",
     "height": 221
    },
    "colab_type": "code",
    "id": "hhAhNEzDoa1l",
    "outputId": "bcd2e30f-4cf5-44b9-a0fa-43710ee28267"
   },
   "outputs": [
    {
     "data": {
      "text/plain": [
       "NONMUSKj146    1044\n",
       "NONMUSK252     1010\n",
       "NONMUSKj147     911\n",
       "NONMUSKf146     383\n",
       "NONMUSK288      344\n",
       "               ... \n",
       "NONMUSK308        2\n",
       "NONMUSK318        2\n",
       "MUSK306           2\n",
       "NONMUSKj96        1\n",
       "NONMUSKj97        1\n",
       "Name: molecule_name, Length: 102, dtype: int64"
      ]
     },
     "execution_count": 96,
     "metadata": {
      "tags": []
     },
     "output_type": "execute_result"
    }
   ],
   "source": [
    "#printing total number of unique molecular name\n",
    "data['molecule_name'] = data['molecule_name'].str.replace('-','')\n",
    "data['molecule_name'].value_counts()"
   ]
  },
  {
   "cell_type": "markdown",
   "metadata": {
    "colab_type": "text",
    "id": "S9p6lb5MsPeM"
   },
   "source": [
    "So here we can observe that there are total 102 unique molecular name"
   ]
  },
  {
   "cell_type": "markdown",
   "metadata": {
    "colab_type": "text",
    "id": "XLELflwStRuW"
   },
   "source": [
    "# Splitting dataset in to train and test dataset"
   ]
  },
  {
   "cell_type": "code",
   "execution_count": 0,
   "metadata": {
    "colab": {},
    "colab_type": "code",
    "id": "J8jwzG0Aocou"
   },
   "outputs": [],
   "source": [
    "y = data['class'].values\n",
    "X = data.drop(['class'], axis=1)\n",
    "# train test split\n",
    "from sklearn.model_selection import train_test_split\n",
    "X_train, X_test, y_train, y_test = train_test_split(X, y, test_size=0.20, stratify=y)"
   ]
  },
  {
   "cell_type": "markdown",
   "metadata": {
    "colab_type": "text",
    "id": "hZjur0AovjS8"
   },
   "source": [
    "#CountVectorizer\n",
    "Converting molecular value in to column value because model can not directly work on text data,so we have to convert these text in to 0 and 1 value form\n",
    "\n"
   ]
  },
  {
   "cell_type": "code",
   "execution_count": 98,
   "metadata": {
    "colab": {
     "base_uri": "https://localhost:8080/",
     "height": 122
    },
    "colab_type": "code",
    "id": "Sds1MkoCokeP",
    "outputId": "aca61d0f-6a26-4f93-82cc-97c5117f6e54"
   },
   "outputs": [
    {
     "name": "stdout",
     "output_type": "stream",
     "text": [
      "After vectorizations\n",
      "(5278, 102) (5278,)\n",
      "(1320, 102) (1320,)\n",
      "['musk211', 'musk212', 'musk213', 'musk214', 'musk215', 'musk217', 'musk219', 'musk224', 'musk228', 'musk238', 'musk240', 'musk256', 'musk273', 'musk284', 'musk287', 'musk294', 'musk300', 'musk306', 'musk314', 'musk321', 'musk322', 'musk323', 'musk330', 'musk331', 'musk333', 'musk344', 'muskf152', 'muskf158', 'muskj33', 'muskj51', 'muskjf15', 'muskjf17', 'muskjf46', 'muskjf47', 'muskjf58', 'muskjf59', 'muskjf66', 'muskjf67', 'muskjf78', 'nonmusk192', 'nonmusk197', 'nonmusk199', 'nonmusk200', 'nonmusk207', 'nonmusk208', 'nonmusk210', 'nonmusk216', 'nonmusk220', 'nonmusk226', 'nonmusk232', 'nonmusk233', 'nonmusk244', 'nonmusk249', 'nonmusk251', 'nonmusk252', 'nonmusk253', 'nonmusk270', 'nonmusk271', 'nonmusk286', 'nonmusk288', 'nonmusk289', 'nonmusk290', 'nonmusk295', 'nonmusk296', 'nonmusk297', 'nonmusk305', 'nonmusk308', 'nonmusk309', 'nonmusk318', 'nonmusk319', 'nonmusk320', 'nonmusk326', 'nonmusk327', 'nonmusk328', 'nonmusk332', 'nonmusk334', 'nonmusk338', 'nonmusk358', 'nonmusk360', 'nonmusk361', 'nonmusk362', 'nonmuskf146', 'nonmuskf150', 'nonmuskf161', 'nonmuskf164', 'nonmuskf209', 'nonmuskj100', 'nonmuskj129', 'nonmuskj130', 'nonmuskj146', 'nonmuskj147', 'nonmuskj148', 'nonmuskj81', 'nonmuskj83', 'nonmuskj84', 'nonmuskj90', 'nonmuskj96', 'nonmuskj97', 'nonmuskjf18', 'nonmuskjf79', 'nonmuskjp10', 'nonmuskjp13']\n",
      "====================================================================================================\n"
     ]
    }
   ],
   "source": [
    "\n",
    "vectorizer = CountVectorizer()\n",
    "vectorizer.fit(X_train['molecule_name'].values) # fit has to happen only on train data\n",
    "\n",
    "# we use the fitted CountVectorizer to convert the text to vector\n",
    "X_train_state_ohe = vectorizer.transform(X_train['molecule_name'].values)\n",
    "\n",
    "X_test_state_ohe = vectorizer.transform(X_test['molecule_name'].values)\n",
    "\n",
    "print(\"After vectorizations\")\n",
    "print(X_train_state_ohe.shape, y_train.shape)\n",
    "\n",
    "print(X_test_state_ohe.shape, y_test.shape)\n",
    "print(vectorizer.get_feature_names())\n",
    "print(\"=\"*100)"
   ]
  },
  {
   "cell_type": "code",
   "execution_count": 0,
   "metadata": {
    "colab": {},
    "colab_type": "code",
    "id": "2xNerFIH4f5F"
   },
   "outputs": [],
   "source": [
    "#Dropping ['molecule_name','ID','conformation_name'] columns\n",
    "\n",
    "X_train=X_train.drop(['molecule_name','ID','conformation_name'], axis=1)\n",
    "X_test=X_test.drop(['molecule_name','ID','conformation_name'], axis=1)\n"
   ]
  },
  {
   "cell_type": "code",
   "execution_count": 0,
   "metadata": {
    "colab": {},
    "colab_type": "code",
    "id": "9dfd_l-i4_mT"
   },
   "outputs": [],
   "source": [
    "#normalize dataset\n",
    "from sklearn.preprocessing import MinMaxScaler\n",
    "scaler = MinMaxScaler()\n",
    "scaler.fit(X_train)\n",
    "X_train=scaler.transform(X_train)\n",
    "X_test=scaler.transform(X_test)"
   ]
  },
  {
   "cell_type": "code",
   "execution_count": 101,
   "metadata": {
    "colab": {
     "base_uri": "https://localhost:8080/",
     "height": 68
    },
    "colab_type": "code",
    "id": "9LnmPwdAoyU6",
    "outputId": "0231670d-71c0-4eb3-e051-2845151c23d2"
   },
   "outputs": [
    {
     "name": "stdout",
     "output_type": "stream",
     "text": [
      "Final Data matrix\n",
      "(5278, 268) (5278,)\n",
      "(1320, 268) (1320,)\n"
     ]
    }
   ],
   "source": [
    "#combining all clean dataset's columns\n",
    "from scipy.sparse import hstack\n",
    "X_tr = hstack((X_train_state_ohe,X_train)).tocsr()\n",
    "X_te= hstack((X_test_state_ohe,X_test)).tocsr()\n",
    "print(\"Final Data matrix\")\n",
    "print(X_tr.shape, y_train.shape)\n",
    "print(X_te.shape, y_test.shape)"
   ]
  },
  {
   "cell_type": "markdown",
   "metadata": {
    "colab_type": "text",
    "id": "OVVhm_EPt8SU"
   },
   "source": [
    "<h1>Apply model(Multi layer perceptron)\n",
    " As we can see that class 0 is majority class and class 1 is minority class ,so we give more weightage to class 1 and less weightage to class 0\n",
    "\n",
    "\n"
   ]
  },
  {
   "cell_type": "code",
   "execution_count": 0,
   "metadata": {
    "colab": {},
    "colab_type": "code",
    "id": "MhTDNt0s8h6P"
   },
   "outputs": [],
   "source": [
    "#https://machinelearningmastery.com/tutorial-first-neural-network-python-keras/\n",
    "\n",
    "model = SequentialS\n",
    "model.add(Dense(12, input_dim=268, init='uniform', activation='relu'))\n",
    "\n",
    "model.add(Dense(8, init='uniform', activation='relu'))\n",
    " \n",
    "model.add(Dense(1, init='uniform', activation='sigmoid'))\n",
    "#giving class weightage\n",
    "class_weight = {0: 0.10,\n",
    "                1: 0.90}\n"
   ]
  },
  {
   "cell_type": "code",
   "execution_count": 0,
   "metadata": {
    "colab": {},
    "colab_type": "code",
    "id": "MInD-Ree_oCa"
   },
   "outputs": [],
   "source": [
    "\n",
    "model.compile(loss='binary_crossentropy', optimizer='adam', metrics=['accuracy'])"
   ]
  },
  {
   "cell_type": "code",
   "execution_count": 104,
   "metadata": {
    "colab": {
     "base_uri": "https://localhost:8080/",
     "height": 374
    },
    "colab_type": "code",
    "id": "DgKNbgXo_3xY",
    "outputId": "e23ccdd4-24d0-44cb-b5a9-ff7689f84c98"
   },
   "outputs": [
    {
     "name": "stdout",
     "output_type": "stream",
     "text": [
      "Train on 5278 samples, validate on 1320 samples\n",
      "Epoch 1/10\n",
      "5278/5278 [==============================] - 1s 207us/step - loss: 0.1452 - acc: 0.2694 - val_loss: 0.6201 - val_acc: 0.6508\n",
      "Epoch 2/10\n",
      "5278/5278 [==============================] - 1s 132us/step - loss: 0.0813 - acc: 0.8003 - val_loss: 0.3029 - val_acc: 0.8962\n",
      "Epoch 3/10\n",
      "5278/5278 [==============================] - 1s 138us/step - loss: 0.0295 - acc: 0.9540 - val_loss: 0.0978 - val_acc: 0.9818\n",
      "Epoch 4/10\n",
      "5278/5278 [==============================] - 1s 143us/step - loss: 0.0136 - acc: 0.9793 - val_loss: 0.0436 - val_acc: 0.9894\n",
      "Epoch 5/10\n",
      "5278/5278 [==============================] - 1s 117us/step - loss: 0.0076 - acc: 0.9867 - val_loss: 0.0302 - val_acc: 0.9917\n",
      "Epoch 6/10\n",
      "5278/5278 [==============================] - 1s 126us/step - loss: 0.0046 - acc: 0.9926 - val_loss: 0.0347 - val_acc: 0.9894\n",
      "Epoch 7/10\n",
      "5278/5278 [==============================] - 1s 135us/step - loss: 0.0031 - acc: 0.9945 - val_loss: 0.0181 - val_acc: 0.9955\n",
      "Epoch 8/10\n",
      "5278/5278 [==============================] - 1s 128us/step - loss: 0.0021 - acc: 0.9970 - val_loss: 0.0144 - val_acc: 0.9970\n",
      "Epoch 9/10\n",
      "5278/5278 [==============================] - 1s 145us/step - loss: 0.0015 - acc: 0.9977 - val_loss: 0.0082 - val_acc: 0.9985\n",
      "Epoch 10/10\n",
      "5278/5278 [==============================] - 1s 136us/step - loss: 0.0011 - acc: 0.9989 - val_loss: 0.0078 - val_acc: 0.9985\n"
     ]
    }
   ],
   "source": [
    "#fitting data in to model\n",
    "history=model.fit(X_tr, y_train, validation_data=(X_te, y_test),class_weight=class_weight, nb_epoch=10, batch_size=32)\n"
   ]
  },
  {
   "cell_type": "markdown",
   "metadata": {
    "colab_type": "text",
    "id": "QXbMWF9HuRfZ"
   },
   "source": [
    "<h1>Accuracy of model"
   ]
  },
  {
   "cell_type": "code",
   "execution_count": 105,
   "metadata": {
    "colab": {
     "base_uri": "https://localhost:8080/",
     "height": 51
    },
    "colab_type": "code",
    "id": "px7lLiyMkxHE",
    "outputId": "15f70935-2458-43fc-a8f8-ab193a055828"
   },
   "outputs": [
    {
     "name": "stdout",
     "output_type": "stream",
     "text": [
      "1320/1320 [==============================] - 0s 55us/step\n",
      "Accuracy: 99.85\n"
     ]
    }
   ],
   "source": [
    "# evaluate the keras model\n",
    "_, accuracy = model.evaluate(X_te, y_test)\n",
    "print('Accuracy: %.2f' % (accuracy*100))"
   ]
  },
  {
   "cell_type": "markdown",
   "metadata": {
    "colab_type": "text",
    "id": "tR5CmyJ6uHTa"
   },
   "source": [
    "# Observation\n",
    "Here we can observe that we get 99 percent accuracy on test data"
   ]
  },
  {
   "cell_type": "markdown",
   "metadata": {
    "colab_type": "text",
    "id": "oLtQxvvcubCH"
   },
   "source": [
    "<h1>Precision ,recall ,f1 score"
   ]
  },
  {
   "cell_type": "code",
   "execution_count": 106,
   "metadata": {
    "colab": {
     "base_uri": "https://localhost:8080/",
     "height": 153
    },
    "colab_type": "code",
    "id": "A59erzW2ozIX",
    "outputId": "bee742d2-1e9a-4775-9768-cb678dd4556e"
   },
   "outputs": [
    {
     "name": "stdout",
     "output_type": "stream",
     "text": [
      "Accuracy: 0.998485\n",
      "Precision: 0.990244\n",
      "Recall: 1.000000\n",
      "F1 score: 0.995098\n",
      "Cohens kappa: 0.994202\n",
      "ROC AUC: 0.999991\n",
      "[[1115    2]\n",
      " [   0  203]]\n"
     ]
    }
   ],
   "source": [
    "#https://machinelearningmastery.com/how-to-calculate-precision-recall-f1-and-more-for-deep-learning-models/\n",
    "\n",
    "yhat_probs = model.predict(X_te, verbose=0)\n",
    "yhat_classes = model.predict_classes(X_te, verbose=0)\n",
    "yhat_probs = yhat_probs[:, 0]\n",
    "yhat_classes = yhat_classes[:, 0]\n",
    "accuracy = accuracy_score(y_test, yhat_classes)\n",
    "print('Accuracy: %f' % accuracy)\n",
    "# precision tp / (tp + fp)\n",
    "precision = precision_score(y_test, yhat_classes)\n",
    "print('Precision: %f' % precision)\n",
    "# recall: tp / (tp + fn)\n",
    "recall = recall_score(y_test, yhat_classes)\n",
    "print('Recall: %f' % recall)\n",
    "# f1: 2 tp / (2 tp + fp + fn)\n",
    "f1 = f1_score(y_test, yhat_classes)\n",
    "print('F1 score: %f' % f1)\n",
    " \n",
    "# kappa\n",
    "kappa = cohen_kappa_score(y_test, yhat_classes)\n",
    "print('Cohens kappa: %f' % kappa)\n",
    "# ROC AUC\n",
    "auc = roc_auc_score(y_test, yhat_probs)\n",
    "print('ROC AUC: %f' % auc)\n",
    "# confusion matrix\n",
    "matrix = confusion_matrix(y_test, yhat_classes)\n",
    "print(matrix)"
   ]
  },
  {
   "cell_type": "markdown",
   "metadata": {
    "colab_type": "text",
    "id": "1wlfQVNVuh8Y"
   },
   "source": [
    "<h1>Visualisation of model accuracy and model loss"
   ]
  },
  {
   "cell_type": "code",
   "execution_count": 117,
   "metadata": {
    "colab": {
     "base_uri": "https://localhost:8080/",
     "height": 624
    },
    "colab_type": "code",
    "id": "aDpki151DTJP",
    "outputId": "3063b905-ca51-4069-e009-daf790b8c3a6"
   },
   "outputs": [
    {
     "name": "stdout",
     "output_type": "stream",
     "text": [
      "dict_keys(['val_loss', 'val_acc', 'loss', 'acc'])\n"
     ]
    },
    {
     "data": {
      "image/png": "[encoded data removed]",
      "text/plain": [
       "<Figure size 432x288 with 1 Axes>"
      ]
     },
     "metadata": {
      "tags": []
     },
     "output_type": "display_data"
    },
    {
     "data": {
      "image/png": "[encoded data removed]",
      "text/plain": [
       "<Figure size 432x288 with 1 Axes>"
      ]
     },
     "metadata": {
      "tags": []
     },
     "output_type": "display_data"
    },
    {
     "name": "stdout",
     "output_type": "stream",
     "text": [
      "loss: 0.0010968274114421962\n",
      "validation accuracy: 0.9984848484848485\n"
     ]
    }
   ],
   "source": [
    "# list all data in history\n",
    "\n",
    "print(history.history.keys())\n",
    "# summarize history for accuracy\n",
    "plt.plot(history.history['acc'])\n",
    "plt.plot(history.history['val_acc'])\n",
    "plt.title('model accuracy')\n",
    "plt.ylabel('accuracy')\n",
    "plt.xlabel('epoch')\n",
    "plt.legend(['train', 'test'], loc='upper left')\n",
    "plt.show()\n",
    "# summarize history for loss\n",
    "plt.plot(history.history['loss'])\n",
    "plt.plot(history.history['val_loss'])\n",
    "plt.title('model loss')\n",
    "plt.ylabel('loss')\n",
    "plt.xlabel('epoch')\n",
    "plt.legend(['train', 'test'], loc='upper left')\n",
    "plt.show()\n",
    "print\n",
    "#summarize loss and validation accuracy\n",
    "name=history.history\n",
    "print('loss:',(name['loss'])[-1])\n",
    "print('validation accuracy:',(name['val_acc'])[-1])"
   ]
  },
  {
   "cell_type": "markdown",
   "metadata": {
    "colab_type": "text",
    "id": "IHI1R_Kn10CI"
   },
   "source": [
    "<h1>Summarizing result"
   ]
  },
  {
   "cell_type": "markdown",
   "metadata": {},
   "source": [
    "![title](Capture.png)"
   ]
  },
  {
   "cell_type": "markdown",
   "metadata": {},
   "source": [
    "So,as from the result we can see that that our model which is based on simple multi layer perceptron and it perform best accuracy on test data.that's why i choose this model"
   ]
  }
 ],
 "metadata": {
  "accelerator": "GPU",
  "colab": {
   "name": "Untitled2.ipynb",
   "provenance": []
  },
  "kernelspec": {
   "display_name": "Python 3",
   "language": "python",
   "name": "python3"
  },
  "language_info": {
   "codemirror_mode": {
    "name": "ipython",
    "version": 3
   },
   "file_extension": ".py",
   "mimetype": "text/x-python",
   "name": "python",
   "nbconvert_exporter": "python",
   "pygments_lexer": "ipython3",
   "version": "3.6.5"
  }
 },
 "nbformat": 4,
 "nbformat_minor": 1
}
